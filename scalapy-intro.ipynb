{
 "cells": [
  {
   "cell_type": "markdown",
   "id": "7c2adb17-7745-4702-a2b2-a87da9d6ec8f",
   "metadata": {},
   "source": [
    "# ScalaPy tutorial\n",
    "In this notebook I will show how to use Scalapy -- a library for using python from scala.\n"
   ]
  },
  {
   "cell_type": "code",
   "execution_count": 1,
   "id": "3bf86847-304c-4443-8a57-b0652af8233c",
   "metadata": {},
   "outputs": [
    {
     "data": {
      "text/plain": [
       "\u001b[32mimport \u001b[39m\u001b[36m$ivy.$                                \u001b[39m"
      ]
     },
     "execution_count": 1,
     "metadata": {},
     "output_type": "execute_result"
    }
   ],
   "source": [
    "import $ivy.`dev.scalapy::scalapy-core:0.5.3`"
   ]
  },
  {
   "cell_type": "markdown",
   "id": "9868a64a-ecd4-4fc0-973b-b0cb2cba4d4f",
   "metadata": {},
   "source": [
    "## Simple usage\n",
    "Scalapy, in its basic, let make it possible to call python function from scala code.\n",
    "It uses scala.Dynamic to make it possible (more details here) inspired by how scala.js works."
   ]
  },
  {
   "cell_type": "code",
   "execution_count": 2,
   "id": "c09e4b53-eb87-4b21-84e0-019e13bde78d",
   "metadata": {},
   "outputs": [
    {
     "data": {
      "text/plain": [
       "\u001b[32mimport \u001b[39m\u001b[36mme.shadaj.scalapy.py\n",
       "\u001b[39m\n",
       "\u001b[32mimport \u001b[39m\u001b[36mme.shadaj.scalapy.py.SeqConverters // Conversion for Scala-Python list \u001b[39m"
      ]
     },
     "execution_count": 2,
     "metadata": {},
     "output_type": "execute_result"
    }
   ],
   "source": [
    "// Entrypoint\n",
    "import me.shadaj.scalapy.py\n",
    "import me.shadaj.scalapy.py.SeqConverters // Conversion for Scala-Python list "
   ]
  },
  {
   "cell_type": "code",
   "execution_count": 3,
   "id": "af8b1e7d",
   "metadata": {},
   "outputs": [
    {
     "name": "stderr",
     "output_type": "stream",
     "text": [
      "java.lang.UnsatisfiedLinkError: Unable to load library 'python3.9m':\n",
      "libpython3.9m.so: cannot open shared object file: No such file or directory\n",
      "libpython3.9m.so: cannot open shared object file: No such file or directory\n",
      "Native library (linux-x86-64/libpython3.9m.so) not found in resource path ([file:/usr/lib/jvm/src.zip, file:/home/gianluca/.cache/coursier/v1/https/repo1.maven.org/maven2/dev/scalapy/scalapy-core_2.13/0.5.3/scalapy-core_2.13-0.5.3.jar, file:/home/gianluca/.cache/coursier/v1/https/repo1.maven.org/maven2/sh/almond/almond-scalapy_2.13/0.13.14/almond-scalapy_2.13-0.13.14.jar, file:/home/gianluca/.cache/coursier/v1/https/repo1.maven.org/maven2/dev/scalapy/scalapy-macros_2.13/0.5.3/scalapy-macros_2.13-0.5.3.jar, file:/home/gianluca/.cache/coursier/v1/https/jitpack.io/com/github/jupyter/jvm-repr/0.4.0/jvm-repr-0.4.0.jar, file:/home/gianluca/.cache/coursier/v1/https/repo1.maven.org/maven2/org/scala-lang/scala-library/2.13.10/scala-library-2.13.10.jar, file:/home/gianluca/.cache/coursier/v1/https/repo1.maven.org/maven2/dev/scalapy/scalapy-core_2.13/0.5.3/scalapy-core_2.13-0.5.3-sources.jar, file:/home/gianluca/.cache/coursier/v1/https/repo1.maven.org/maven2/sh/almond/almond-scalapy_2.13/0.13.14/almond-scalapy_2.13-0.13.14-sources.jar, file:/home/gianluca/.cache/coursier/v1/https/repo1.maven.org/maven2/dev/scalapy/scalapy-macros_2.13/0.5.3/scalapy-macros_2.13-0.5.3-sources.jar, file:/home/gianluca/.cache/coursier/v1/https/jitpack.io/com/github/jupyter/jvm-repr/0.4.0/jvm-repr-0.4.0-sources.jar, file:/home/gianluca/.cache/coursier/v1/https/repo1.maven.org/maven2/org/scala-lang/scala-library/2.13.10/scala-library-2.13.10-sources.jar])\n",
      "\tat com.sun.jna.NativeLibrary.loadLibrary(NativeLibrary.java:301)\n",
      "\tat com.sun.jna.NativeLibrary.getInstance(NativeLibrary.java:461)\n",
      "\tat com.sun.jna.Native.register(Native.java:1746)\n",
      "\tat com.sun.jna.Native.register(Native.java:1467)\n",
      "\tat me.shadaj.scalapy.interpreter.CPythonAPIInterface.$anonfun$loadAttempts$1(CPythonAPI.scala:20)\n",
      "\tat scala.collection.immutable.Stream.map(Stream.scala:173)\n",
      "\tat me.shadaj.scalapy.interpreter.CPythonAPIInterface.<init>(CPythonAPI.scala:19)\n",
      "\tat me.shadaj.scalapy.interpreter.CPythonAPI$.<init>(CPythonAPI.scala:119)\n",
      "\tat me.shadaj.scalapy.interpreter.CPythonAPI$.<clinit>(CPythonAPI.scala:119)\n",
      "\tat me.shadaj.scalapy.interpreter.CPythonInterpreter$.$anonfun$initialize$2(CPythonInterpreter.scala:16)\n",
      "\tat scala.runtime.java8.JFunction0$mcV$sp.apply(JFunction0$mcV$sp.scala:18)\n",
      "\tat scala.Option.fold(Option.scala:263)\n",
      "\tat me.shadaj.scalapy.interpreter.CPythonInterpreter$.initialize(CPythonInterpreter.scala:16)\n",
      "\tat me.shadaj.scalapy.interpreter.CPythonInterpreter$.<clinit>(CPythonInterpreter.scala:22)\n",
      "\tat me.shadaj.scalapy.py.package$.<clinit>(package.scala:17)\n",
      "\tat ammonite.$sess.cmd2$Helper.<init>(cmd2.sc:2)\n",
      "\tat ammonite.$sess.cmd2$.<clinit>(cmd2.sc:7)\n",
      "\tat ammonite.$sess.cmd2.$main(cmd2.sc)\n",
      "\tat java.base/jdk.internal.reflect.NativeMethodAccessorImpl.invoke0(Native Method)\n",
      "\tat java.base/jdk.internal.reflect.NativeMethodAccessorImpl.invoke(NativeMethodAccessorImpl.java:77)\n",
      "\tat java.base/jdk.internal.reflect.DelegatingMethodAccessorImpl.invoke(DelegatingMethodAccessorImpl.java:43)\n",
      "\tat java.base/java.lang.reflect.Method.invoke(Method.java:568)\n",
      "\tat ammonite.runtime.Evaluator$$anon$1.$anonfun$evalMain$1(Evaluator.scala:108)\n",
      "\tat ammonite.util.Util$.withContextClassloader(Util.scala:24)\n",
      "\tat ammonite.runtime.Evaluator$$anon$1.evalMain(Evaluator.scala:90)\n",
      "\tat ammonite.runtime.Evaluator$$anon$1.$anonfun$processLine$2(Evaluator.scala:127)\n",
      "\tat ammonite.util.Catching.map(Res.scala:117)\n",
      "\tat ammonite.runtime.Evaluator$$anon$1.$anonfun$processLine$1(Evaluator.scala:121)\n",
      "\tat ammonite.util.Res$Success.flatMap(Res.scala:62)\n",
      "\tat ammonite.runtime.Evaluator$$anon$1.processLine(Evaluator.scala:120)\n",
      "\tat ammonite.interp.Interpreter.$anonfun$evaluateLine$5(Interpreter.scala:301)\n",
      "\tat ammonite.util.Res$Success.flatMap(Res.scala:62)\n",
      "\tat ammonite.interp.Interpreter.$anonfun$evaluateLine$2(Interpreter.scala:284)\n",
      "\tat ammonite.util.Catching.flatMap(Res.scala:115)\n",
      "\tat ammonite.interp.Interpreter.evaluateLine(Interpreter.scala:283)\n",
      "\tat ammonite.interp.Interpreter.$anonfun$processLine$6(Interpreter.scala:271)\n",
      "\tat ammonite.util.Res$Success.flatMap(Res.scala:62)\n",
      "\tat ammonite.interp.Interpreter.$anonfun$processLine$4(Interpreter.scala:254)\n",
      "\tat ammonite.util.Res$Success.flatMap(Res.scala:62)\n",
      "\tat ammonite.interp.Interpreter.$anonfun$processLine$2(Interpreter.scala:247)\n",
      "\tat ammonite.util.Catching.flatMap(Res.scala:115)\n",
      "\tat ammonite.interp.Interpreter.processLine(Interpreter.scala:246)\n",
      "\tat almond.Execute.$anonfun$ammResult$7(Execute.scala:276)\n",
      "\tat almond.internals.CaptureImpl.$anonfun$apply$2(CaptureImpl.scala:52)\n",
      "\tat scala.util.DynamicVariable.withValue(DynamicVariable.scala:59)\n",
      "\tat scala.Console$.withErr(Console.scala:193)\n",
      "\tat almond.internals.CaptureImpl.$anonfun$apply$1(CaptureImpl.scala:44)\n",
      "\tat scala.util.DynamicVariable.withValue(DynamicVariable.scala:59)\n",
      "\tat scala.Console$.withOut(Console.scala:164)\n",
      "\tat almond.internals.CaptureImpl.apply(CaptureImpl.scala:44)\n",
      "\tat almond.Execute.capturingOutput(Execute.scala:178)\n",
      "\tat almond.Execute.$anonfun$ammResult$6(Execute.scala:263)\n",
      "\tat almond.Execute.$anonfun$withClientStdin$1(Execute.scala:157)\n",
      "\tat scala.util.DynamicVariable.withValue(DynamicVariable.scala:59)\n",
      "\tat scala.Console$.withIn(Console.scala:227)\n",
      "\tat almond.Execute.withClientStdin(Execute.scala:153)\n",
      "\tat almond.Execute.$anonfun$ammResult$5(Execute.scala:263)\n",
      "\tat almond.Execute.withInputManager(Execute.scala:143)\n",
      "\tat almond.Execute.$anonfun$ammResult$4(Execute.scala:262)\n",
      "\tat ammonite.repl.Signaller.apply(Signaller.scala:28)\n",
      "\tat almond.Execute.interruptible(Execute.scala:204)\n",
      "\tat almond.Execute.$anonfun$ammResult$3(Execute.scala:261)\n",
      "\tat ammonite.util.Res$Success.flatMap(Res.scala:62)\n",
      "\tat almond.Execute.$anonfun$ammResult$1(Execute.scala:248)\n",
      "\tat almond.Execute.withOutputHandler(Execute.scala:169)\n",
      "\tat almond.Execute.ammResult(Execute.scala:239)\n",
      "\tat almond.Execute.apply(Execute.scala:397)\n",
      "\tat almond.ScalaInterpreter.execute(ScalaInterpreter.scala:158)\n",
      "\tat almond.interpreter.InterpreterToIOInterpreter.$anonfun$execute$2(InterpreterToIOInterpreter.scala:70)\n",
      "\tat cats.effect.internals.IORunLoop$.cats$effect$internals$IORunLoop$$loop(IORunLoop.scala:108)\n",
      "\tat cats.effect.internals.IORunLoop$RestartCallback.signal(IORunLoop.scala:480)\n",
      "\tat cats.effect.internals.IORunLoop$RestartCallback.apply(IORunLoop.scala:501)\n",
      "\tat cats.effect.internals.IORunLoop$RestartCallback.apply(IORunLoop.scala:439)\n",
      "\tat cats.effect.internals.IOShift$Tick.run(IOShift.scala:36)\n",
      "\tat java.base/java.util.concurrent.ThreadPoolExecutor.runWorker(ThreadPoolExecutor.java:1136)\n",
      "\tat java.base/java.util.concurrent.ThreadPoolExecutor$Worker.run(ThreadPoolExecutor.java:635)\n",
      "\tat java.base/java.lang.Thread.run(Thread.java:833)\n",
      "\tSuppressed: java.lang.UnsatisfiedLinkError: libpython3.9m.so: cannot open shared object file: No such file or directory\n",
      "\t\tat com.sun.jna.Native.open(Native Method)\n",
      "\t\tat com.sun.jna.NativeLibrary.loadLibrary(NativeLibrary.java:191)\n",
      "\t\t... 76 more\n",
      "\tSuppressed: java.lang.UnsatisfiedLinkError: libpython3.9m.so: cannot open shared object file: No such file or directory\n",
      "\t\tat com.sun.jna.Native.open(Native Method)\n",
      "\t\tat com.sun.jna.NativeLibrary.loadLibrary(NativeLibrary.java:204)\n",
      "\t\t... 76 more\n",
      "\tSuppressed: java.io.IOException: Native library (linux-x86-64/libpython3.9m.so) not found in resource path ([file:/usr/lib/jvm/src.zip, file:/home/gianluca/.cache/coursier/v1/https/repo1.maven.org/maven2/dev/scalapy/scalapy-core_2.13/0.5.3/scalapy-core_2.13-0.5.3.jar, file:/home/gianluca/.cache/coursier/v1/https/repo1.maven.org/maven2/sh/almond/almond-scalapy_2.13/0.13.14/almond-scalapy_2.13-0.13.14.jar, file:/home/gianluca/.cache/coursier/v1/https/repo1.maven.org/maven2/dev/scalapy/scalapy-macros_2.13/0.5.3/scalapy-macros_2.13-0.5.3.jar, file:/home/gianluca/.cache/coursier/v1/https/jitpack.io/com/github/jupyter/jvm-repr/0.4.0/jvm-repr-0.4.0.jar, file:/home/gianluca/.cache/coursier/v1/https/repo1.maven.org/maven2/org/scala-lang/scala-library/2.13.10/scala-library-2.13.10.jar, file:/home/gianluca/.cache/coursier/v1/https/repo1.maven.org/maven2/dev/scalapy/scalapy-core_2.13/0.5.3/scalapy-core_2.13-0.5.3-sources.jar, file:/home/gianluca/.cache/coursier/v1/https/repo1.maven.org/maven2/sh/almond/almond-scalapy_2.13/0.13.14/almond-scalapy_2.13-0.13.14-sources.jar, file:/home/gianluca/.cache/coursier/v1/https/repo1.maven.org/maven2/dev/scalapy/scalapy-macros_2.13/0.5.3/scalapy-macros_2.13-0.5.3-sources.jar, file:/home/gianluca/.cache/coursier/v1/https/jitpack.io/com/github/jupyter/jvm-repr/0.4.0/jvm-repr-0.4.0-sources.jar, file:/home/gianluca/.cache/coursier/v1/https/repo1.maven.org/maven2/org/scala-lang/scala-library/2.13.10/scala-library-2.13.10-sources.jar])\n",
      "\t\tat com.sun.jna.Native.extractFromResourcePath(Native.java:1119)\n",
      "\t\tat com.sun.jna.NativeLibrary.loadLibrary(NativeLibrary.java:275)\n",
      "\t\t... 76 more\n"
     ]
    },
    {
     "ename": "",
     "evalue": "",
     "output_type": "error",
     "traceback": [
      "\u001b[31mjava.lang.Exception: Unable to locate Python library, tried python3.9m\u001b[39m\n  me.shadaj.scalapy.interpreter.CPythonAPIInterface.$anonfun$new$2(\u001b[32mCPythonAPI.scala\u001b[39m:\u001b[32m29\u001b[39m)\n  scala.Option.getOrElse(\u001b[32mOption.scala\u001b[39m:\u001b[32m201\u001b[39m)\n  me.shadaj.scalapy.interpreter.CPythonAPIInterface.<init>(\u001b[32mCPythonAPI.scala\u001b[39m:\u001b[32m26\u001b[39m)\n  me.shadaj.scalapy.interpreter.CPythonAPI$.<init>(\u001b[32mCPythonAPI.scala\u001b[39m:\u001b[32m119\u001b[39m)\n  me.shadaj.scalapy.interpreter.CPythonAPI$.<clinit>(\u001b[32mCPythonAPI.scala\u001b[39m:\u001b[32m119\u001b[39m)\n  me.shadaj.scalapy.interpreter.CPythonInterpreter$.$anonfun$initialize$2(\u001b[32mCPythonInterpreter.scala\u001b[39m:\u001b[32m16\u001b[39m)\n  scala.runtime.java8.JFunction0$mcV$sp.apply(\u001b[32mJFunction0$mcV$sp.scala\u001b[39m:\u001b[32m18\u001b[39m)\n  scala.Option.fold(\u001b[32mOption.scala\u001b[39m:\u001b[32m263\u001b[39m)\n  me.shadaj.scalapy.interpreter.CPythonInterpreter$.initialize(\u001b[32mCPythonInterpreter.scala\u001b[39m:\u001b[32m16\u001b[39m)\n  me.shadaj.scalapy.interpreter.CPythonInterpreter$.<clinit>(\u001b[32mCPythonInterpreter.scala\u001b[39m:\u001b[32m22\u001b[39m)\n  me.shadaj.scalapy.py.package$.<clinit>(\u001b[32mpackage.scala\u001b[39m:\u001b[32m17\u001b[39m)\n  ammonite.$sess.cmd2$Helper.<init>(\u001b[32mcmd2.sc\u001b[39m:\u001b[32m2\u001b[39m)\n  ammonite.$sess.cmd2$.<clinit>(\u001b[32mcmd2.sc\u001b[39m:\u001b[32m7\u001b[39m)\n\u001b[31mjava.lang.UnsatisfiedLinkError: Unable to load library 'python3.9m':\nlibpython3.9m.so: cannot open shared object file: No such file or directory\nlibpython3.9m.so: cannot open shared object file: No such file or directory\nNative library (linux-x86-64/libpython3.9m.so) not found in resource path ([file:/usr/lib/jvm/src.zip, file:/home/gianluca/.cache/coursier/v1/https/repo1.maven.org/maven2/dev/scalapy/scalapy-core_2.13/0.5.3/scalapy-core_2.13-0.5.3.jar, file:/home/gianluca/.cache/coursier/v1/https/repo1.maven.org/maven2/sh/almond/almond-scalapy_2.13/0.13.14/almond-scalapy_2.13-0.13.14.jar, file:/home/gianluca/.cache/coursier/v1/https/repo1.maven.org/maven2/dev/scalapy/scalapy-macros_2.13/0.5.3/scalapy-macros_2.13-0.5.3.jar, file:/home/gianluca/.cache/coursier/v1/https/jitpack.io/com/github/jupyter/jvm-repr/0.4.0/jvm-repr-0.4.0.jar, file:/home/gianluca/.cache/coursier/v1/https/repo1.maven.org/maven2/org/scala-lang/scala-library/2.13.10/scala-library-2.13.10.jar, file:/home/gianluca/.cache/coursier/v1/https/repo1.maven.org/maven2/dev/scalapy/scalapy-core_2.13/0.5.3/scalapy-core_2.13-0.5.3-sources.jar, file:/home/gianluca/.cache/coursier/v1/https/repo1.maven.org/maven2/sh/almond/almond-scalapy_2.13/0.13.14/almond-scalapy_2.13-0.13.14-sources.jar, file:/home/gianluca/.cache/coursier/v1/https/repo1.maven.org/maven2/dev/scalapy/scalapy-macros_2.13/0.5.3/scalapy-macros_2.13-0.5.3-sources.jar, file:/home/gianluca/.cache/coursier/v1/https/jitpack.io/com/github/jupyter/jvm-repr/0.4.0/jvm-repr-0.4.0-sources.jar, file:/home/gianluca/.cache/coursier/v1/https/repo1.maven.org/maven2/org/scala-lang/scala-library/2.13.10/scala-library-2.13.10-sources.jar])\u001b[39m\n  com.sun.jna.NativeLibrary.loadLibrary(\u001b[32mNativeLibrary.java\u001b[39m:\u001b[32m301\u001b[39m)\n  com.sun.jna.NativeLibrary.getInstance(\u001b[32mNativeLibrary.java\u001b[39m:\u001b[32m461\u001b[39m)\n  com.sun.jna.Native.register(\u001b[32mNative.java\u001b[39m:\u001b[32m1746\u001b[39m)\n  com.sun.jna.Native.register(\u001b[32mNative.java\u001b[39m:\u001b[32m1467\u001b[39m)\n  me.shadaj.scalapy.interpreter.CPythonAPIInterface.$anonfun$loadAttempts$1(\u001b[32mCPythonAPI.scala\u001b[39m:\u001b[32m20\u001b[39m)\n  scala.collection.immutable.Stream.map(\u001b[32mStream.scala\u001b[39m:\u001b[32m173\u001b[39m)\n  me.shadaj.scalapy.interpreter.CPythonAPIInterface.<init>(\u001b[32mCPythonAPI.scala\u001b[39m:\u001b[32m19\u001b[39m)\n  me.shadaj.scalapy.interpreter.CPythonAPI$.<init>(\u001b[32mCPythonAPI.scala\u001b[39m:\u001b[32m119\u001b[39m)\n  me.shadaj.scalapy.interpreter.CPythonAPI$.<clinit>(\u001b[32mCPythonAPI.scala\u001b[39m:\u001b[32m119\u001b[39m)\n  me.shadaj.scalapy.interpreter.CPythonInterpreter$.$anonfun$initialize$2(\u001b[32mCPythonInterpreter.scala\u001b[39m:\u001b[32m16\u001b[39m)\n  scala.runtime.java8.JFunction0$mcV$sp.apply(\u001b[32mJFunction0$mcV$sp.scala\u001b[39m:\u001b[32m18\u001b[39m)\n  scala.Option.fold(\u001b[32mOption.scala\u001b[39m:\u001b[32m263\u001b[39m)\n  me.shadaj.scalapy.interpreter.CPythonInterpreter$.initialize(\u001b[32mCPythonInterpreter.scala\u001b[39m:\u001b[32m16\u001b[39m)\n  me.shadaj.scalapy.interpreter.CPythonInterpreter$.<clinit>(\u001b[32mCPythonInterpreter.scala\u001b[39m:\u001b[32m22\u001b[39m)\n  me.shadaj.scalapy.py.package$.<clinit>(\u001b[32mpackage.scala\u001b[39m:\u001b[32m17\u001b[39m)\n  ammonite.$sess.cmd2$Helper.<init>(\u001b[32mcmd2.sc\u001b[39m:\u001b[32m2\u001b[39m)\n  ammonite.$sess.cmd2$.<clinit>(\u001b[32mcmd2.sc\u001b[39m:\u001b[32m7\u001b[39m)"
     ]
    }
   ],
   "source": [
    "// Convert scala list to python list\n",
    "val elements = 10 :: 20 :: 30 :: Nil\n",
    "val pythonList = elements.toPythonCopy"
   ]
  },
  {
   "cell_type": "code",
   "execution_count": 4,
   "id": "0e4d1a24",
   "metadata": {},
   "outputs": [
    {
     "data": {
      "text/plain": [
       "\u001b[36mres4\u001b[39m: \u001b[32mpy\u001b[39m.\u001b[32mDynamic\u001b[39m = 3"
      ]
     },
     "execution_count": 4,
     "metadata": {},
     "output_type": "execute_result"
    }
   ],
   "source": [
    "// Python operation from scala\n",
    "py.Dynamic.global.len(pythonList)"
   ]
  },
  {
   "cell_type": "code",
   "execution_count": 5,
   "id": "07567ba1",
   "metadata": {},
   "outputs": [
    {
     "data": {
      "text/plain": [
       "\u001b[36mres5\u001b[39m: \u001b[32mpy\u001b[39m.\u001b[32mDynamic\u001b[39m = 60"
      ]
     },
     "execution_count": 5,
     "metadata": {},
     "output_type": "execute_result"
    }
   ],
   "source": [
    "py.Dynamic.global.sum(pythonList)"
   ]
  },
  {
   "cell_type": "code",
   "execution_count": 6,
   "id": "ae2c644d",
   "metadata": {},
   "outputs": [
    {
     "data": {
      "text/plain": [
       "\u001b[36mres6\u001b[39m: \u001b[32mList\u001b[39m[\u001b[32mInt\u001b[39m] = \u001b[33mList\u001b[39m(\u001b[32m10\u001b[39m, \u001b[32m20\u001b[39m, \u001b[32m30\u001b[39m)"
      ]
     },
     "execution_count": 6,
     "metadata": {},
     "output_type": "execute_result"
    }
   ],
   "source": [
    "// Convert back to scala list\n",
    "pythonList.as[List[Int]]"
   ]
  },
  {
   "cell_type": "code",
   "execution_count": 7,
   "id": "fc23f2cd",
   "metadata": {},
   "outputs": [],
   "source": [
    "// Special operation\n",
    "// list[0] = 10\n",
    "pythonList.as[py.Dynamic].bracketUpdate(0, 30)"
   ]
  },
  {
   "cell_type": "code",
   "execution_count": 8,
   "id": "c7735996",
   "metadata": {},
   "outputs": [
    {
     "data": {
      "text/plain": [
       "\u001b[32mimport \u001b[39m\u001b[36mpy.PyQuote\u001b[39m\n",
       "\u001b[36mres8_1\u001b[39m: \u001b[32mpy\u001b[39m.\u001b[32mDynamic\u001b[39m = [31, 21, 31]"
      ]
     },
     "execution_count": 8,
     "metadata": {},
     "output_type": "execute_result"
    }
   ],
   "source": [
    "// Quote code to access to specific python function\n",
    "import py.PyQuote\n",
    "py\"list(map(lambda x: x + 1, $pythonList))\""
   ]
  },
  {
   "cell_type": "code",
   "execution_count": 9,
   "id": "916f2fbe",
   "metadata": {},
   "outputs": [
    {
     "data": {
      "text/plain": [
       "\u001b[36mres9\u001b[39m: \u001b[32mpy\u001b[39m.\u001b[32mDynamic\u001b[39m = 2"
      ]
     },
     "execution_count": 9,
     "metadata": {},
     "output_type": "execute_result"
    }
   ],
   "source": [
    "// Run python code\n",
    "py.eval(\"1 + 1\")"
   ]
  },
  {
   "cell_type": "code",
   "execution_count": 10,
   "id": "9b29f565",
   "metadata": {},
   "outputs": [
    {
     "data": {
      "text/plain": [
       "\u001b[36mos\u001b[39m: \u001b[32mpy\u001b[39m.\u001b[32mModule\u001b[39m = <module 'os' from '/usr/lib/python3.9/os.py'>"
      ]
     },
     "execution_count": 10,
     "metadata": {},
     "output_type": "execute_result"
    }
   ],
   "source": [
    "// Use python module\n",
    "val os = py.module(\"os\")"
   ]
  },
  {
   "cell_type": "code",
   "execution_count": 12,
   "id": "84d0bf92",
   "metadata": {},
   "outputs": [
    {
     "data": {
      "text/plain": [
       "\u001b[36mres12\u001b[39m: \u001b[32mpy\u001b[39m.\u001b[32mDynamic\u001b[39m = /home/gianluca/Programming/Scala"
      ]
     },
     "execution_count": 12,
     "metadata": {},
     "output_type": "execute_result"
    }
   ],
   "source": [
    "os.getcwd()"
   ]
  },
  {
   "cell_type": "code",
   "execution_count": 13,
   "id": "acd1e4e3",
   "metadata": {},
   "outputs": [
    {
     "data": {
      "text/plain": [
       "\u001b[36mfile\u001b[39m: \u001b[32mpy\u001b[39m.\u001b[32mDynamic\u001b[39m = <_io.TextIOWrapper name='env.yaml' mode='r' encoding='UTF-8'>\n",
       "\u001b[36mres13_1\u001b[39m: \u001b[32mString\u001b[39m = \u001b[32m\"UTF-8\"\u001b[39m"
      ]
     },
     "execution_count": 13,
     "metadata": {},
     "output_type": "execute_result"
    }
   ],
   "source": [
    "val file = py.Dynamic.global.open(\"env.yaml\")\n",
    "py.`with`(file) {\n",
    "  _.encoding.as[String]\n",
    "}"
   ]
  }
 ],
 "metadata": {
  "kernelspec": {
   "display_name": "Scala",
   "language": "scala",
   "name": "scala"
  },
  "language_info": {
   "codemirror_mode": "text/x-scala",
   "file_extension": ".sc",
   "mimetype": "text/x-scala",
   "name": "scala",
   "nbconvert_exporter": "script",
   "version": "2.13.10"
  }
 },
 "nbformat": 4,
 "nbformat_minor": 5
}
